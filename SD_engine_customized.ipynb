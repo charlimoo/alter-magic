{
  "cells": [
    {
      "cell_type": "markdown",
      "metadata": {
        "id": "view-in-github",
        "colab_type": "text"
      },
      "source": [
        "<a href=\"https://colab.research.google.com/github/charlimoo/alter-magic/blob/main/SD_engine_customized.ipynb\" target=\"_parent\"><img src=\"https://colab.research.google.com/assets/colab-badge.svg\" alt=\"Open In Colab\"/></a>"
      ]
    },
    {
      "cell_type": "markdown",
      "metadata": {
        "id": "aaaaaaaaaa"
      },
      "source": [
        "Git clone the repo and install the requirements. (ignore the pip errors about protobuf)"
      ]
    },
    {
      "cell_type": "code",
      "execution_count": null,
      "metadata": {
        "id": "r-kKn3umDTzv"
      },
      "outputs": [],
      "source": [
        "#@title Environment Setup\n",
        "\n",
        "from pathlib import Path\n",
        "\n",
        "OPTIONS = {}\n",
        "\n",
        "USE_GOOGLE_DRIVE = False  #@param {type:\"boolean\"}\n",
        "UPDATE_COMFY_UI = True  #@param {type:\"boolean\"}\n",
        "USE_COMFYUI_MANAGER = True  #@param {type:\"boolean\"}\n",
        "INSTALL_CUSTOM_NODES_DEPENDENCIES = True  #@param {type:\"boolean\"}\n",
        "OPTIONS['USE_GOOGLE_DRIVE'] = USE_GOOGLE_DRIVE\n",
        "OPTIONS['UPDATE_COMFY_UI'] = UPDATE_COMFY_UI\n",
        "OPTIONS['USE_COMFYUI_MANAGER'] = USE_COMFYUI_MANAGER\n",
        "OPTIONS['INSTALL_CUSTOM_NODES_DEPENDENCIES'] = INSTALL_CUSTOM_NODES_DEPENDENCIES\n",
        "\n",
        "current_dir = !pwd\n",
        "WORKSPACE = f\"{current_dir[0]}/ComfyUI\"\n",
        "\n",
        "if OPTIONS['USE_GOOGLE_DRIVE']:\n",
        "    !echo \"Mounting Google Drive...\"\n",
        "    %cd /\n",
        "\n",
        "    from google.colab import drive\n",
        "    drive.mount('/content/drive')\n",
        "\n",
        "    WORKSPACE = \"/content/drive/MyDrive/ComfyUI\"\n",
        "    %cd /content/drive/MyDrive\n",
        "\n",
        "![ ! -d $WORKSPACE ] && echo -= Initial setup ComfyUI =- && git clone https://github.com/comfyanonymous/ComfyUI\n",
        "%cd $WORKSPACE\n",
        "\n",
        "if OPTIONS['UPDATE_COMFY_UI']:\n",
        "  !echo -= Updating ComfyUI =-\n",
        "  !git pull\n",
        "\n",
        "!echo -= Install dependencies =-\n",
        "!pip install xformers!=0.0.18 -r requirements.txt --extra-index-url https://download.pytorch.org/whl/cu118 --extra-index-url https://download.pytorch.org/whl/cu117\n",
        "\n",
        "if OPTIONS['USE_COMFYUI_MANAGER']:\n",
        "  %cd custom_nodes\n",
        "  ![ ! -d ComfyUI-Manager ] && echo -= Initial setup ComfyUI-Manager =- && git clone https://github.com/ltdrdata/ComfyUI-Manager\n",
        "  %cd ComfyUI-Manager\n",
        "  !git pull\n",
        "\n",
        "%cd $WORKSPACE\n",
        "\n",
        "if OPTIONS['INSTALL_CUSTOM_NODES_DEPENDENCIES']:\n",
        "  !echo -= Install custom nodes dependencies =-\n",
        "  ![ -f \"custom_nodes/ComfyUI-Manager/scripts/colab-dependencies.py\" ] && python \"custom_nodes/ComfyUI-Manager/scripts/colab-dependencies.py\"\n",
        "\n",
        "\n",
        "\n"
      ]
    },
    {
      "cell_type": "markdown",
      "metadata": {
        "id": "cccccccccc"
      },
      "source": [
        "Download some models/checkpoints/vae or custom comfyui nodes (uncomment the commands for the ones you want)"
      ]
    },
    {
      "cell_type": "code",
      "source": [
        "# Checkpoints\n",
        "\n",
        "#dreamshaper\n",
        "!wget -c https://civitai.com/api/download/models/128713 -O ./models/checkpoints/dreamshaper_8.safetensors\n",
        "\n",
        "#asolutereality\n",
        "!wget -c https://civitai.com/api/download/models/132760 -O ./models/checkpoints/absolutereality.safetensors"
      ],
      "metadata": {
        "id": "rPtNPxnoM-L0"
      },
      "execution_count": null,
      "outputs": []
    },
    {
      "cell_type": "code",
      "execution_count": null,
      "metadata": {
        "id": "dddddddddd"
      },
      "outputs": [],
      "source": [
        "# T2I Styles Model\n",
        "!wget -c https://huggingface.co/webui/ControlNet-modules-safetensors/resolve/main/t2iadapter_style-fp16.safetensors -O ./models/style_models/style.safetensors\n",
        "\n",
        "# CLIPVision model (needed for styles model)\n",
        "!wget -c https://huggingface.co/openai/clip-vit-large-patch14/resolve/main/pytorch_model.bin -O ./models/clip_vision/pytorch_model.bin\n",
        "\n",
        "# ControlNet\n",
        "!wget -c https://huggingface.co/comfyanonymous/ControlNet-v1-1_fp16_safetensors/resolve/main/control_v11p_sd15_openpose_fp16.safetensors -O ./models/controlnet/openpose.safetensors\n",
        "!wget -c https://huggingface.co/comfyanonymous/ControlNet-v1-1_fp16_safetensors/resolve/main/control_v11p_sd15_softedge_fp16.safetensors -O ./models/controlnet/softedge.safetensors\n",
        "!wget -c https://huggingface.co/CrucibleAI/ControlNetMediaPipeFace/resolve/main/control_v2p_sd15_mediapipe_face.safetensors -O ./models/controlnet/face.safetensors\n",
        "\n",
        "# Controlnet Preprocessor nodes by Fannovel16\n",
        "!cd custom_nodes && git clone https://github.com/Fannovel16/comfy_controlnet_preprocessors; cd comfy_controlnet_preprocessors && python install.py\n",
        "\n",
        "# ultralytics\n",
        "!wget -c https://huggingface.co/Bingsu/adetailer/resolve/main/deepfashion2_yolov8s-seg.pt -P ./models/ultralytics/segm\n",
        "!wget -c https://huggingface.co/Bingsu/adetailer/resolve/main/person_yolov8m-seg.pt -P ./models/ultralytics/segm\n",
        "!wget -c https://huggingface.co/Bingsu/adetailer/resolve/main/face_yolov8m.pt -P ./models/ultralytics/bbox\n",
        "!wget -c https://huggingface.co/Bingsu/adetailer/resolve/main/hand_yolov8s.pt -P ./models/ultralytics/bbox\n",
        "!wget -c https://huggingface.co/spaces/jbrinkma/segment-anything/resolve/main/sam_vit_b_01ec64.pth -P ./models/sams\n",
        "\n",
        "# IDK\n",
        "!wget -c https://huggingface.co/lllyasviel/Annotators/resolve/main/body_pose_model.pth -O /content/ComfyUI/ckpts/body_pose_model.pth\n",
        "!wget -c https://huggingface.co/lllyasviel/Annotators/resolve/main/hand_pose_model.pth -O /content/ComfyUI/ckpts/hand_pose_model.pth\n",
        "!wget -c https://huggingface.co/lllyasviel/Annotators/resolve/main/facenet.pth -O /content/ComfyUI/ckpts/facenet.pth\n",
        "!wget -c https://huggingface.co/lllyasviel/Annotators/resolve/main/ControlNetHED.pth -O /content/ComfyUI/ckpts/ControlNetHED.pth"
      ]
    },
    {
      "cell_type": "code",
      "source": [
        "# impact pack\n",
        "!cd ./custom_nodes && git clone https://github.com/ltdrdata/ComfyUI-Impact-Pack.git\n",
        "!cd ./custom_nodes/ComfyUI-Impact-Pack && python install.py\n",
        "\n",
        "# efficiency\n",
        "!cd ./custom_nodes && git clone https://github.com/LucianoCirino/efficiency-nodes-comfyui\n",
        "\n",
        "# OneButtonPrompt\n",
        "!cd ./custom_nodes && git clone https://github.com/AIrjen/OneButtonPrompt\n",
        "\n",
        "# was node suite\n",
        "!cd ./custom_nodes && git clone https://github.com/WASasquatch/was-node-suite-comfyui\n",
        "!cd ./custom_nodes/was-node-suite-comfyui && pip install -r requirements.txt\n",
        "\n",
        "# masquerade\n",
        "!cd ./custom_nodes && git clone https://github.com/BadCafeCode/masquerade-nodes-comfyui\n",
        "\n",
        "# derfuu\n",
        "!cd ./custom_nodes && git clone https://github.com/Derfuu/Derfuu_ComfyUI_ModdedNodes\n",
        "\n",
        "# reactor\n",
        "!cd ./custom_nodes && git clone https://github.com/Gourieff/comfyui-reactor-node\n",
        "!cd ./custom_nodes/comfyui-reactor-node && python install.py"
      ],
      "metadata": {
        "id": "kWrQLHdrEjfJ"
      },
      "execution_count": null,
      "outputs": []
    },
    {
      "cell_type": "markdown",
      "metadata": {
        "id": "kkkkkkkkkkkkkkk"
      },
      "source": [
        "### Run ComfyUI with cloudflared (Recommended Way)\n",
        "\n",
        "\n"
      ]
    },
    {
      "cell_type": "code",
      "execution_count": null,
      "metadata": {
        "id": "jjjjjjjjjjjjjj"
      },
      "outputs": [],
      "source": [
        "!wget https://github.com/cloudflare/cloudflared/releases/latest/download/cloudflared-linux-amd64.deb\n",
        "!dpkg -i cloudflared-linux-amd64.deb\n",
        "\n",
        "import subprocess\n",
        "import threading\n",
        "import time\n",
        "import socket\n",
        "import urllib.request\n",
        "\n",
        "def iframe_thread(port):\n",
        "  while True:\n",
        "      time.sleep(0.5)\n",
        "      sock = socket.socket(socket.AF_INET, socket.SOCK_STREAM)\n",
        "      result = sock.connect_ex(('127.0.0.1', port))\n",
        "      if result == 0:\n",
        "        break\n",
        "      sock.close()\n",
        "  print(\"\\nComfyUI finished loading, trying to launch cloudflared (if it gets stuck here cloudflared is having issues)\\n\")\n",
        "\n",
        "  p = subprocess.Popen([\"cloudflared\", \"tunnel\", \"--url\", \"http://127.0.0.1:{}\".format(port)], stdout=subprocess.PIPE, stderr=subprocess.PIPE)\n",
        "  for line in p.stderr:\n",
        "    l = line.decode()\n",
        "    if \"trycloudflare.com \" in l:\n",
        "      print(\"This is the URL to access ComfyUI:\", l[l.find(\"http\"):], end='')\n",
        "    #print(l, end='')\n",
        "\n",
        "\n",
        "threading.Thread(target=iframe_thread, daemon=True, args=(8188,)).start()\n",
        "\n",
        "!python main.py --dont-print-server"
      ]
    }
  ],
  "metadata": {
    "accelerator": "GPU",
    "colab": {
      "provenance": [],
      "include_colab_link": true
    },
    "gpuClass": "standard",
    "kernelspec": {
      "display_name": "Python 3",
      "name": "python3"
    },
    "language_info": {
      "name": "python"
    }
  },
  "nbformat": 4,
  "nbformat_minor": 0
}